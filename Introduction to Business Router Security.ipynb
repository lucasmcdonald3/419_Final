{
 "cells": [
  {
   "cell_type": "markdown",
   "metadata": {},
   "source": [
    "# Introduction to Business Router Security Notebook\n",
    "\n",
    "This notebook is aimed at people looking to learn about tools they can use to secure their network environment. It's designed to introduce people to a wide range of tools they can use for any purposes they need.\n",
    "\n",
    "# Prerequisites\n",
    "\n",
    "You'll need to have Python 3+ installed. You can download it here if you don't already have it installed:\n",
    "\n",
    "https://www.python.org/downloads/\n",
    "\n",
    "Also, this tutorial will be much easier on a Linux or Mac machine."
   ]
  },
  {
   "cell_type": "markdown",
   "metadata": {},
   "source": [
    "# Step 1: Basic Configuration\n",
    "\n",
    "The easiest steps for securing your network environment are almost some of the most effective. By taking a few simple, non-technical steps, you can secure your network for the majority of low effort attacks.\n",
    "\n",
    "## Secure your devices\n",
    "\n",
    "Make sure that your router is located in a secure location. In addition to preventing patrons from accidently disrupting service, securing your routers ensures no-one can insert any devices or exploit a feature like WPS (if you choose to enable it). \n",
    "\n",
    "In addition, make sure that any sensative devices (such as registers, business computers, iPads, etc) are protected by strong passwords. \n",
    "\n",
    "\n",
    "## Changing default credentials\n",
    "\n",
    "If you've never logged into your router before, the first step is going to be accessing your router, and updating your credentials.\n",
    "\n",
    "#### Changing default crendentials is the most important security measure you can take.\n",
    "\n",
    "In order to change your credentials, you first need to access your router's admin page. If you have physical access to your router, the default IP address and login credentials may be printed on the label. While the specific address of your router may vary, this tutorial will largely be using the adress 192.168.1.1 \n",
    "\n",
    "You may run the script below to scan for your router IP. If it can't automatically find your IP, try including your router brand, or looking it up on this website: https://proprivacy.com/guides/default-router-login-details"
   ]
  },
  {
   "cell_type": "code",
   "execution_count": 67,
   "metadata": {},
   "outputs": [
    {
     "name": "stdout",
     "output_type": "stream",
     "text": [
      "Your router IP address is likely: 192.168.1.1\n"
     ]
    }
   ],
   "source": [
    "import subprocess\n",
    "import re\n",
    "\n",
    "#Put your router brand here (OPTIONAL)\n",
    "router_brand = \"\"\n",
    "\n",
    "\n",
    "\n",
    "#Regular expression looking for IP address\n",
    "p = re.compile(r'\\d+\\S\\d+\\S\\d+\\S\\d+', re.IGNORECASE)\n",
    "\n",
    "#Looking for router IP\n",
    "shell_cmd = 'arp -a | grep \"router\"'\n",
    "\n",
    "if router_brand is not \"\":\n",
    "     shell_cmd = shell_cmd[0:-1] + \"\\|\" + router_brand + '\"'\n",
    "\n",
    "arp_results = subprocess.check_output(shell_cmd, shell=True).decode(\"utf-8\").split(\"\\n\")\n",
    "for result in arp_results:\n",
    "    adr = p.findall(result)\n",
    "    if len(adr) is 1:\n",
    "        print(\"Your router IP address is likely: \" + str(adr[0]))\n",
    "\n"
   ]
  },
  {
   "cell_type": "markdown",
   "metadata": {},
   "source": [
    "To access your router, trying opening a browser tab and entering the IP address above. You should arrive at a log-in page. If you haven't changed your default login credentials, then try logging in with the credentials found at the website above.\n",
    "\n",
    "Navigate to your routers settings page. There will likely be an \"Administration\" or \"System\" tab, from where you should be able to create a new log in password. Create a strong password, consisting of at least 8 characters that doesn't contain personal information or phrases easily associated with the business or yourself."
   ]
  },
  {
   "cell_type": "markdown",
   "metadata": {},
   "source": [
    "## Configure public and private WiFi\n",
    "\n",
    "While you likely already have a public WiFi for guests, it is important to also have a private network, protected by a different WiFi password, for use by the business. Any sensative information should pass through this seperate, privae network. Sensative information may include accounting, emailing, internet connected payment devices, VoIP, or any other business information.\n",
    "\n",
    "Configuration will vary by router model and manufacter. However, it will likely be done through the same web browser interface used above. \n",
    "\n",
    "Make sure that you use WPA2 security for both the public and private networks. Additionally, use a strong, hard to guess password for your private network. By isolating your private and public networks, an easy to share and guess public password won't expose your private information."
   ]
  },
  {
   "cell_type": "markdown",
   "metadata": {},
   "source": [
    "## Update your firmware\n",
    "\n",
    "Updating your router's firmware is very important, especially if it an older device or has not been updated in a long time. Updating may fix old bugs, improves performance, or add additional features to your router. Most importantly, however, is that they will contain security patches that are vital to the health and wellbeing of your network. \n",
    "\n",
    "From your router administration page, you should be able to select a firmware tab. While details will vary by router, most common routers support firmware updates through the web browser, so you only need to click a button. Others may require you to download the latest firmware from the manufacter's website. "
   ]
  },
  {
   "cell_type": "markdown",
   "metadata": {},
   "source": [
    "## Services and Features\n",
    "\n",
    "By default, many routers have many unneeded services, features, or settings enabled. While some are harmless or useful, others provide attack surfaces on your network, both locally and through the internet. Conversely, other important safetey features are occassionally left off. \n",
    "\n",
    "The first service you should take a closer look at is your firewall. It is generally recommended to enable this feature, as your firewall the first line of defense between your network and the wider internet. Enabling your fireware will likely be done through your router's webpage, on a dedicated tab. Each network may have its own unique networking needs, but most business can get by by using default firewall configurations, which will block most incoming traffic.\n",
    "\n",
    "\n",
    "\n",
    "Additionally, specific services can be disabled to make your router less of a target. If you don't need any of the following services, considering turning them off in your router's settings.\n",
    "    - ssh (especially WAN access)\n",
    "    - UPnP\n",
    "    - router admin web access (for WAN)\n",
    "    "
   ]
  },
  {
   "cell_type": "markdown",
   "metadata": {},
   "source": [
    "# Step 2: Additional testing\n",
    "\n",
    "While the actions taken in step 1 go a long way towards protecting your network environment, there are additional tests you can run to further protect your business and environment."
   ]
  },
  {
   "cell_type": "markdown",
   "metadata": {},
   "source": [
    "## Installing Tools\n",
    "\n",
    "We will use the tools below to scan your wireless environment.\n",
    "\n",
    "- routersploit: Contains a scanner that automatically checks your router for common vulnerabilities.\n",
    "- netdisco: Scans your network and returns information about hardware on your network.\n",
    "\n",
    "The code below will automatically install all of these tools. If you don't want to use a tool or if a tool won't install on your platform, change the corresponding variable below to False."
   ]
  },
  {
   "cell_type": "code",
   "execution_count": null,
   "metadata": {
    "collapsed": true
   },
   "outputs": [],
   "source": [
    "# Change these variables to False if you don't want to install the tool\n",
    "routersploit = True\n",
    "netdisco = True\n",
    "\n",
    "import platform\n",
    "import os\n",
    "\n",
    "def install_routersploit():\n",
    "    os.system(\"git clone https://www.github.com/threat9/routersploit routersploit\")\n",
    "    os.system(\"cd routersploit\")\n",
    "    os.system(\"sudo python3 -m pip install -r requirements.txt\")\n",
    "    os.system(\"cd ..\")\n",
    "    print(\"Installed routersploit\")\n",
    "    \n",
    "def install_netdisco():\n",
    "    os.system(\"pip3 install netdisco\")\n",
    "    print(\"Installed netdisco\")\n",
    "    \n",
    "if routersploit:\n",
    "    install_routersploit()\n",
    "    \n",
    "if netdisco:\n",
    "    install_netdisco()\n",
    "    "
   ]
  },
  {
   "cell_type": "markdown",
   "metadata": {},
   "source": [
    "## Scanning your network for devices\n",
    "\n",
    "One useful tool is learning information about devices connected to your network. You can determine how many devices are on your network, examine specific devices for security issues, or learn more about all devices.\n",
    "\n",
    "\n",
    "\n",
    "### ARP Scan\n",
    "\n",
    "An ARP scan gives you basic you information about some devices connected to your network. It's useful for finding out how many devices are on your network or for getting a list of IP addresses of devices on your network.\n",
    "\n",
    "Run the code cell below. This will run `arp -a` in your computer's shell, giving you a list of some devices connected to your network."
   ]
  },
  {
   "cell_type": "code",
   "execution_count": 68,
   "metadata": {},
   "outputs": [
    {
     "name": "stdout",
     "output_type": "stream",
     "text": [
      "router.asus.com (192.168.1.1) at 4c:ed:fb:7c:69:f8 on en0 ifscope [ethernet]\n",
      "chriss-ipad (192.168.1.6) at 8:e6:89:87:60:ab on en0 ifscope [ethernet]\n",
      "homeserver (192.168.1.251) at 70:85:c2:ae:5a:d2 on en0 ifscope [ethernet]\n",
      "? (224.0.0.251) at 1:0:5e:0:0:fb on en0 ifscope permanent [ethernet]\n",
      "\n"
     ]
    }
   ],
   "source": [
    "import subprocess\n",
    "\n",
    "arp_results = subprocess.check_output(\"arp -a\", shell=True).decode(\"utf-8\").split(\"\\n\")\n",
    "for result in arp_results:\n",
    "    print(result)"
   ]
  },
  {
   "cell_type": "markdown",
   "metadata": {
    "collapsed": true
   },
   "source": [
    "Each line looks like this:\n",
    "\n",
    "`[device name] ([device local IP address]) at [device MAC address] on [connection information]`\n",
    "\n",
    "- `device name` tells you a name assigned to that device. This probably tells you the name of that device, but if lots of devices are on the network, this can be inaccurate.\n",
    "- `device local IP address` gives you the address this device uses to communicate on your network. You can use this in later sections to learn more information about this device\n",
    "- `device MAC address` gives you a unique identifier for the device, but this isn't too useful for this guide.\n",
    "- `connection information` gives you network interface information that isn't too useful for this guide.\n",
    "\n",
    "Generally, you can use an ARP scan to get a list of IPs on your network. In the next section, you can use this information to scan a specific IP address to learn more about that device."
   ]
  },
  {
   "cell_type": "markdown",
   "metadata": {
    "collapsed": true
   },
   "source": [
    "### nmap Scan\n",
    "\n",
    "Devices on your network may have open network ports. An open port provides a gateway for other devices to communicate with that device.\n",
    "\n",
    "Generally, you only want to open a port if it's necessary. Unnecessary open ports can provide ways for hackers to steal information from devices on your network.\n",
    "\n",
    "`nmap` is a tool you can use to scan specific device on your network to see which ports are open on it.\n",
    "\n",
    "#### Fast Scan\n",
    "\n",
    "The below code checks for commonly opened ports on the IP `192.168.1.1`, which is probably your router. Feel free to modify the `ip` variable to scan different devices."
   ]
  },
  {
   "cell_type": "code",
   "execution_count": null,
   "metadata": {
    "collapsed": true
   },
   "outputs": [],
   "source": [
    "ip = \"192.168.1.1\"  # Should look like \"192.168.XXX.XXX\"\n",
    "\n",
    "import subprocess\n",
    "\n",
    "netdisco_results = subprocess.check_output(\"nmap -F \" + ip, shell=True).decode(\"utf-8\").split(\"\\n\")\n",
    "for result in netdisco_results:\n",
    "    print(result)"
   ]
  },
  {
   "cell_type": "markdown",
   "metadata": {},
   "source": [
    "The scan gives a list of open ports:\n",
    "\n",
    "`PORT                        STATE            SERVICE`  \n",
    "`[port number]/[protocol]    [port state]     [port purpose]`\n",
    "\n",
    "- `port number` indicates the number of the port, from `1-65535`, that is being described.\n",
    "- `port state` usually indicates if the port is `open` or `closed` to traffic.\n",
    "- `port purpose` indicates the type of traffic that port usually handles. For instance, port 80 handles HTTP (regular Internet) traffic, while port 443 handles HTTPS (secure Internet) traffic.\n",
    "\n",
    "#### Scanning a specific port\n",
    "\n",
    "The below code scans the IP `192.168.1.1` to see which ports in the range `1-4096` are open. Again, feel free to modify the variables to scan different devices or ports."
   ]
  },
  {
   "cell_type": "code",
   "execution_count": 17,
   "metadata": {},
   "outputs": [
    {
     "name": "stdout",
     "output_type": "stream",
     "text": [
      "Starting Nmap 7.70 ( https://nmap.org ) at 2019-05-09 16:23 CDT\n",
      "Nmap scan report for router.asus.com (192.168.1.1)\n",
      "Host is up (0.10s latency).\n",
      "Not shown: 4087 closed ports\n",
      "PORT     STATE SERVICE\n",
      "22/tcp   open  ssh\n",
      "53/tcp   open  domain\n",
      "80/tcp   open  http\n",
      "139/tcp  open  netbios-ssn\n",
      "445/tcp  open  microsoft-ds\n",
      "515/tcp  open  printer\n",
      "1990/tcp open  stun-p1\n",
      "3394/tcp open  d2k-tapestry2\n",
      "3838/tcp open  sos\n",
      "\n",
      "Nmap done: 1 IP address (1 host up) scanned in 33.27 seconds\n",
      "\n"
     ]
    }
   ],
   "source": [
    "ip = \"192.168.1.1\"  # Should look like \"192.168.XXX.XXX\"\n",
    "port = \"1-4096\"     # Should be a number from 1-65535 (e.g. \"443\"), or a range of numbers (e.g. \"1-1024\").\n",
    "\n",
    "import subprocess\n",
    "\n",
    "netdisco_results = subprocess.check_output(\"nmap -p \" + port + \" \" + ip, shell=True).decode(\"utf-8\").split(\"\\n\")\n",
    "for result in netdisco_results:\n",
    "    print(result)"
   ]
  },
  {
   "cell_type": "markdown",
   "metadata": {},
   "source": [
    "### netdisco Scan\n",
    "\n",
    "An ARP scan gives you basic information about all of the devices on your network, while an nmap scan gives you information about open ports on a specific device. Another tool, `netdisco`, gives you hardware information about certain devices. This is useful for finding the IP of devices you know some hardware information about, like a Chromecast or a Smart TV.\n",
    "\n",
    "Run the code block below to run the `netdisco` scan."
   ]
  },
  {
   "cell_type": "code",
   "execution_count": null,
   "metadata": {
    "collapsed": true
   },
   "outputs": [],
   "source": [
    "import subprocess\n",
    "\n",
    "netdisco_results = subprocess.check_output(\"python3 -m netdisco\", shell=True).decode(\"utf-8\").split(\"\\n\")\n",
    "for result in netdisco_results:\n",
    "    print(result)"
   ]
  },
  {
   "cell_type": "markdown",
   "metadata": {},
   "source": [
    "You can see the information includes like the device name and serial number, which can be useful for identifying a specific device on your network. It also describes some network information, like open ports and UPnP information."
   ]
  },
  {
   "cell_type": "markdown",
   "metadata": {
    "collapsed": true
   },
   "source": [
    "# Scanning for vulnerabilities: routersploit\n",
    "\n",
    "Over time, people discover vulnerabilities in routers that can be exploited. These are usually patched in newer routers, but old routers that haven't been updated in a while are more vulnerable.\n",
    "\n",
    "There are a wide variety of vulnerabilities that can be found in routers, making it difficult to check for all of them. The routersploit tool contains an automated scanner you can use to check your router against a database of vulnerabilities. This makes it easy to run a broad range of tests against your router to check its security.\n",
    "\n",
    "routersploit must be installed for this section to work.\n",
    "\n",
    "1. Open a new terminal in the routersploit folder. If routersploit was installed automatically in the \"Installing Tools\" section, it will be in the same directory as this notebook.\n",
    "2. Run \"`python3 rsf.py`\". The routersploit interface will load.\n",
    "3. Type \"`use scanners/autopwn`\". This loads the autopwn scanner for vulnerabilities.\n",
    "4. Type \"`set target 192.168.1.1`\" to target the scan at IP `192.168.1.1`. Feel free to change the IP to target a different device.\n",
    "5. Type \"`run`\" to run the scan. Autopwn will check a wide variety of scans and list the results of each test.\n",
    "\n",
    "If the device is vulnerable to an exploit, routersploit will output a list containing vulnerabilities with a <font color=\"44EE44\">[+]</font> symbol in front of it. Depending on the type of exploit that your router is vulnerable to, you should consider multiple options:\n",
    "\n",
    "- Mentions default credentials: The credentials to login to router's administrator page were either never changed, or are easy to guess. Check the section on changing this login information to change this.\n",
    "- Mentions open ports: Consider if you really need that port to be open. Generally, you shouldn't need to open ports besides 53, 80, and 443, unless you have a special setup.\n",
    "- Mentions specific software version: Update your router's firmware. Outdated firmware may contains bugs or exploits. Security patches provides additional security, and updates may provide improved performance or additional features.\n",
    "- Mentions specific router model: You may need a new router. As time goes on, people discover and public exploits in routers, so older routers are more vulnerable.\n"
   ]
  }
 ],
 "metadata": {
  "kernelspec": {
   "display_name": "Python 3",
   "language": "python",
   "name": "python3"
  },
  "language_info": {
   "codemirror_mode": {
    "name": "ipython",
    "version": 3
   },
   "file_extension": ".py",
   "mimetype": "text/x-python",
   "name": "python",
   "nbconvert_exporter": "python",
   "pygments_lexer": "ipython3",
   "version": "3.7.3"
  }
 },
 "nbformat": 4,
 "nbformat_minor": 2
}
