{
 "cells": [
  {
   "cell_type": "markdown",
   "metadata": {},
   "source": [
    "# Local Network and Router Security Notebook\n",
    "\n",
    "This notebook is aimed at people looking to learn about tools they can use to secure their network environment. It's designed to introduce people to a wide range of tools they can use for any purposes they need.\n",
    "\n",
    "# Prerequisites\n",
    "\n",
    "You'll need to have Python 3+ installed. You can download it here if you don't already have it installed:\n",
    "\n",
    "https://www.python.org/downloads/\n",
    "\n",
    "Also, this tutorial will be much easier on a Linux or Mac machine."
   ]
  },
  {
   "cell_type": "markdown",
   "metadata": {},
   "source": [
    "# Step 1: WiFi Configuration\n",
    "\n",
    "The easiest steps for securing your network environment are almost some of the most effective. By taking a few simple, non-technical steps, you can secure your network for the majority of low effort attacks.\n",
    "\n",
    "## Secure your devices\n",
    "\n",
    "Make sure that your router is located in a secure location. In addition to preventing patrons from accidently disrupting service, securing your routers ensures no-one can insert any devices or exploit a feature like WPS (if you choose to enable it). \n",
    "\n",
    "In addition, make sure that any sensative devices (such as registers, business computers, iPads, etc) are protected by strong passwords. \n",
    "\n",
    "\n",
    "## Changing default credentials\n",
    "\n",
    "If you've never logged into your router before, the first step is going to be accessing your router, and updating your credentials.\n",
    "\n",
    "The first step to securing your network is accessing your router. If you have access to your router, the default IP address and login credentials may be printed on the label. If not, you can try using a website like this to find your default credentials: https://proprivacy.com/guides/default-router-login-details\n",
    "\n",
    "While the specific address of your router may vary, this tutorial will largely be using the adress 192.168.1.1\n",
    "\n",
    "To access your router, trying opening a browser tab and entering 192.168.1.1 (or your router's IP address). You should arrive at a log-in page. If you haven't changed your default login credentials, then you should be able to\n",
    "\n"
   ]
  },
  {
   "cell_type": "code",
   "execution_count": 4,
   "metadata": {},
   "outputs": [
    {
     "data": {
      "text/plain": [
       "True"
      ]
     },
     "execution_count": 4,
     "metadata": {},
     "output_type": "execute_result"
    }
   ],
   "source": [
    "import webbrowser\n",
    "\n",
    "ip = \"192.168.1.1\"  # Should look like \"192.168.XXX.XXX\"\n",
    "\n",
    "webbrowser.open(ip[, new=0[, autoraise=True]])"
   ]
  },
  {
   "cell_type": "markdown",
   "metadata": {},
   "source": [
    "# Installing Tools\n",
    "\n",
    "We will use the tools below to scan your wireless environment.\n",
    "\n",
    "- routersploit: Contains a scanner that automatically checks your router for common vulnerabilities.\n",
    "- netdisco: Scans your network and returns information about hardware on your network.\n",
    "\n",
    "The code below will automatically install all of these tools. If you don't want to use a tool or if a tool won't install on your platform, change the corresponding variable below to False."
   ]
  },
  {
   "cell_type": "code",
   "execution_count": null,
   "metadata": {
    "collapsed": true
   },
   "outputs": [],
   "source": [
    "# Change these variables to False if you don't want to install the tool\n",
    "routersploit = True\n",
    "netdisco = True\n",
    "\n",
    "import platform\n",
    "import os\n",
    "\n",
    "def install_routersploit():\n",
    "    os.system(\"git clone https://www.github.com/threat9/routersploit routersploit\")\n",
    "    os.system(\"cd routersploit\")\n",
    "    os.system(\"sudo python3 -m pip install -r requirements.txt\")\n",
    "    os.system(\"cd ..\")\n",
    "    print(\"Installed routersploit\")\n",
    "    \n",
    "def install_netdisco():\n",
    "    os.system(\"pip3 install netdisco\")\n",
    "    print(\"Installed netdisco\")\n",
    "    \n",
    "if routersploit:\n",
    "    install_routersploit()\n",
    "    \n",
    "if netdisco:\n",
    "    install_netdisco()\n",
    "    "
   ]
  },
  {
   "cell_type": "markdown",
   "metadata": {},
   "source": [
    "# Scanning your network for devices\n",
    "\n",
    "One useful tool is learning information about devices connected to your network. You can determine how many devices are on your network, examine specific devices for security issues, or learn more about all devices.\n",
    "\n",
    "\n",
    "\n",
    "## ARP Scan\n",
    "\n",
    "An ARP scan gives you basic you information about some devices connected to your network. It's useful for finding out how many devices are on your network or for getting a list of IP addresses of devices on your network.\n",
    "\n",
    "Run the code cell below. This will run `arp -a` in your computer's shell, giving you a list of some devices connected to your network."
   ]
  },
  {
   "cell_type": "code",
   "execution_count": null,
   "metadata": {
    "collapsed": true
   },
   "outputs": [],
   "source": [
    "import subprocess\n",
    "\n",
    "arp_results = subprocess.check_output(\"arp -a\", shell=True).decode(\"utf-8\").split(\"\\n\")\n",
    "for result in arp_results:\n",
    "    print(result)"
   ]
  },
  {
   "cell_type": "markdown",
   "metadata": {
    "collapsed": true
   },
   "source": [
    "Each line looks like this:\n",
    "\n",
    "`[device name] ([device local IP address]) at [device MAC address] on [connection information]`\n",
    "\n",
    "- `device name` tells you a name assigned to that device. This probably tells you the name of that device, but if lots of devices are on the network, this can be inaccurate.\n",
    "- `device local IP address` gives you the address this device uses to communicate on your network. You can use this in later sections to learn more information about this device\n",
    "- `device MAC address` gives you a unique identifier for the device, but this isn't too useful for this guide.\n",
    "- `connection information` gives you network interface information that isn't too useful for this guide.\n",
    "\n",
    "Generally, you can use an ARP scan to get a list of IPs on your network. In the next section, you can use this information to scan a specific IP address to learn more about that device."
   ]
  },
  {
   "cell_type": "markdown",
   "metadata": {
    "collapsed": true
   },
   "source": [
    "## nmap Scan\n",
    "\n",
    "Devices on your network may have open network ports. An open port provides a gateway for other devices to communicate with that device.\n",
    "\n",
    "Generally, you only want to open a port if it's necessary. Unnecessary open ports can provide ways for hackers to steal information from devices on your network.\n",
    "\n",
    "`nmap` is a tool you can use to scan specific device on your network to see which ports are open on it.\n",
    "\n",
    "#### Fast Scan\n",
    "\n",
    "The below code checks for commonly opened ports on the IP `192.168.1.1`, which is probably your router. Feel free to modify the `ip` variable to scan different devices."
   ]
  },
  {
   "cell_type": "code",
   "execution_count": null,
   "metadata": {
    "collapsed": true
   },
   "outputs": [],
   "source": [
    "ip = \"192.168.1.1\"  # Should look like \"192.168.XXX.XXX\"\n",
    "\n",
    "import subprocess\n",
    "\n",
    "netdisco_results = subprocess.check_output(\"nmap -F \" + ip, shell=True).decode(\"utf-8\").split(\"\\n\")\n",
    "for result in netdisco_results:\n",
    "    print(result)"
   ]
  },
  {
   "cell_type": "markdown",
   "metadata": {},
   "source": [
    "The scan gives a list of open ports:\n",
    "\n",
    "`PORT                        STATE            SERVICE`  \n",
    "`[port number]/[protocol]    [port state]     [port purpose]`\n",
    "\n",
    "- `port number` indicates the number of the port, from `1-65535`, that is being described.\n",
    "- `port state` usually indicates if the port is `open` or `closed` to traffic.\n",
    "- `port purpose` indicates the type of traffic that port usually handles. For instance, port 80 handles HTTP (regular Internet) traffic, while port 443 handles HTTPS (secure Internet) traffic.\n",
    "\n",
    "#### Scanning a specific port\n",
    "\n",
    "The below code scans the IP `192.168.1.1` to see which ports in the range `1-4096` are open. Again, feel free to modify the variables to scan different devices or ports."
   ]
  },
  {
   "cell_type": "code",
   "execution_count": null,
   "metadata": {
    "collapsed": true
   },
   "outputs": [],
   "source": [
    "ip = \"192.168.1.1\"  # Should look like \"192.168.XXX.XXX\"\n",
    "port = \"1-4096\"     # Should be a number from 1-65535 (e.g. \"443\"), or a range of numbers (e.g. \"1-1024\").\n",
    "\n",
    "import subprocess\n",
    "\n",
    "netdisco_results = subprocess.check_output(\"nmap -p \" + port + \" \" + ip, shell=True).decode(\"utf-8\").split(\"\\n\")\n",
    "for result in netdisco_results:\n",
    "    print(result)"
   ]
  },
  {
   "cell_type": "markdown",
   "metadata": {},
   "source": [
    "## netdisco Scan\n",
    "\n",
    "An ARP scan gives you basic information about all of the devices on your network, while an nmap scan gives you information about open ports on a specific device. Another tool, `netdisco`, gives you hardware information about certain devices. This is useful for finding the IP of devices you know some hardware information about, like a Chromecast or a Smart TV.\n",
    "\n",
    "Run the code block below to run the `netdisco` scan."
   ]
  },
  {
   "cell_type": "code",
   "execution_count": null,
   "metadata": {
    "collapsed": true
   },
   "outputs": [],
   "source": [
    "import subprocess\n",
    "\n",
    "netdisco_results = subprocess.check_output(\"python3 -m netdisco\", shell=True).decode(\"utf-8\").split(\"\\n\")\n",
    "for result in netdisco_results:\n",
    "    print(result)"
   ]
  },
  {
   "cell_type": "markdown",
   "metadata": {},
   "source": [
    "You can see the information includes like the device name and serial number, which can be useful for identifying a specific device on your network. It also describes some network information, like open ports and UPnP information."
   ]
  },
  {
   "cell_type": "markdown",
   "metadata": {
    "collapsed": true
   },
   "source": [
    "# Scanning for vulnerabilities: routersploit\n",
    "\n",
    "Over time, people discover vulnerabilities in routers that can be exploited. These are usually patched in newer routers, but old routers that haven't been updated in a while are more vulnerable.\n",
    "\n",
    "There are a wide variety of vulnerabilities that can be found in routers, making it difficult to check for all of them. The routersploit tool contains an automated scanner you can use to check your router against a database of vulnerabilities. This makes it easy to run a broad range of tests against your router to check its security.\n",
    "\n",
    "routersploit must be installed for this section to work.\n",
    "\n",
    "1. Open a new terminal in the routersploit folder. If routersploit was installed automatically in the \"Installing Tools\" section, it will be in the same directory as this notebook.\n",
    "2. Run \"`python3 rsf.py`\". The routersploit interface will load.\n",
    "3. Type \"`use scanners/autopwn`\". This loads the autopwn scanner for vulnerabilities.\n",
    "4. Type \"`set target 192.168.1.1`\" to target the scan at IP `192.168.1.1`. Feel free to change the IP to target a different device.\n",
    "5. Type \"`run`\" to run the scan. Autopwn will check a wide variety of scans and list the results of each test.\n",
    "\n",
    "If the device is vulnerable to an exploit, routersploit will output a list containing vulnerabilities with a <font color=\"44EE44\">[+]</font> symbol in front of it. Depending on the type of exploit that your router is vulnerable to, you should consider multiple options:\n",
    "\n",
    "- Mentions default credentials: The credentials to login to router's administrator page were either never changed, or are easy to guess. Check the section on changing this login information to change this.\n",
    "- Mentions open ports: Consider if you really need that port to be open. Generally, you shouldn't need to open ports besides 53, 80, and 443, unless you have a special setup.\n",
    "- Mentions specific software version: Update your router's firmware. Outdated firmware may contains bugs or exploits. Security patches provides additional security, and updates may provide improved performance or additional features.\n",
    "- Mentions specific router model: You may need a new router. As time goes on, people discover and public exploits in routers, so older routers are more vulnerable.\n"
   ]
  },
  {
   "cell_type": "code",
   "execution_count": null,
   "metadata": {
    "collapsed": true
   },
   "outputs": [],
   "source": []
  }
 ],
 "metadata": {
  "kernelspec": {
   "display_name": "Python 3",
   "language": "python",
   "name": "python3"
  },
  "language_info": {
   "codemirror_mode": {
    "name": "ipython",
    "version": 3
   },
   "file_extension": ".py",
   "mimetype": "text/x-python",
   "name": "python",
   "nbconvert_exporter": "python",
   "pygments_lexer": "ipython3",
   "version": "3.7.3"
  }
 },
 "nbformat": 4,
 "nbformat_minor": 2
}
